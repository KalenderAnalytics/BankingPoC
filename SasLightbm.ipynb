{
 "cells": [
  {
   "cell_type": "code",
   "execution_count": 105,
   "id": "1af682d1-d247-4fbf-aa6a-12c8223d4a70",
   "metadata": {},
   "outputs": [],
   "source": [
    "import swat\n",
    "import os\n",
    "import pandas as pd\n",
    "import numpy as np\n",
    "from sklearn.metrics import f1_score\n",
    "import lightgbm as lgb\n",
    "import time\n",
    "import gc\n",
    "from sklearn.model_selection import train_test_split\n",
    "from lightgbm import early_stopping\n",
    "try:\n",
    "    import cPickle as pickle\n",
    "except BaseException:\n",
    "    import pickle\n",
    "import time\n",
    "\n",
    "import sasctl.pzmm as pzmm\n",
    "from sasctl import Session\n",
    "from sasctl.services import model_repository as modelRepo\n",
    "from sklearn.metrics import auc, accuracy_score, confusion_matrix, mean_squared_error\n",
    "from sklearn.model_selection import cross_val_score, GridSearchCV, KFold, RandomizedSearchCV, train_test_split\n",
    "from pathlib import Path\n",
    "from sasctl.services import model_repository as mr"
   ]
  },
  {
   "cell_type": "code",
   "execution_count": 106,
   "id": "f48ebcfa-d6a2-4edc-afcd-b55e79484500",
   "metadata": {
    "tags": []
   },
   "outputs": [],
   "source": [
    "os.environ['CAS_CLIENT_SSL_CA_LIST'] = \"C:/Users/turkak/SASVIYACERT/my_ca_certificate.pem\"\n",
    "hostname = 'https://server.demo.sas.com:443/cas-shared-default-http/'\n",
    "username = 'sasdemo'\n",
    "password = 'Orion123'\n",
    "conn = swat.CAS('https://server.demo.sas.com:443/cas-shared-default-http/', username='sasdemo',password='Orion123')"
   ]
  },
  {
   "cell_type": "code",
   "execution_count": 107,
   "id": "61c3f494-562b-4b0c-9d14-9468464a5752",
   "metadata": {
    "tags": []
   },
   "outputs": [
    {
     "name": "stdout",
     "output_type": "stream",
     "text": [
      "NOTE: Grid node action status report: 1 nodes, 9 total actions executed.\n"
     ]
    },
    {
     "data": {
      "text/html": [
       "<div class=\"cas-results-key\"><b>&#167; About</b></div>\n",
       "<div class=\"cas-results-body\">\n",
       "<div>{'CAS': 'Cloud Analytic Services', 'CASCacheLocation': 'CAS Disk Cache', 'CASHostAccountRequired': 'OPTIONAL', 'Copyright': 'Copyright © 2014-2022 SAS Institute Inc. All Rights Reserved.', 'ServerTime': '2022-08-07T05:40:26Z', 'System': {'Hostname': 'controller.sas-cas-server-default.sas-viya.svc.cluster.local', 'Linux Distribution': 'Red Hat Enterprise Linux release 8.6 (Ootpa)', 'Model Number': 'x86_64', 'OS Family': 'LIN X64', 'OS Name': 'Linux', 'OS Release': '3.10.0-1160.6.1.el7.x86_64', 'OS Version': '#1 SMP Tue Nov 17 13:59:11 UTC 2020'}, 'Transferred': 'NO', 'Version': '4.00', 'VersionLong': 'V.04.00M0P07182022', 'Viya Release': '20220721.1658437616927', 'Viya Version': 'Stable 2022.1.3', 'license': {'expires': '22Oct2022:00:00:00', 'gracePeriod': 45, 'site': 'VIYA 4 W ESP, ACCESS, VA, VDMML, AIOT, AND PQA', 'siteNum': 70180938, 'warningPeriod': 49}}</div>\n",
       "</div>\n",
       "<div class=\"cas-results-key\"><hr/><b>&#167; nodestatus</b></div>\n",
       "<div class=\"cas-results-body\">\n",
       "<div>\n",
       "<style scoped>\n",
       "    .dataframe tbody tr th:only-of-type {\n",
       "        vertical-align: middle;\n",
       "    }\n",
       "\n",
       "    .dataframe tbody tr th {\n",
       "        vertical-align: top;\n",
       "    }\n",
       "\n",
       "    .dataframe thead th {\n",
       "        text-align: right;\n",
       "    }\n",
       "</style>\n",
       "<table border=\"1\" class=\"dataframe\"><caption>Node Status</caption>\n",
       "  <thead>\n",
       "    <tr style=\"text-align: right;\">\n",
       "      <th title=\"\"></th>\n",
       "      <th title=\"Node Name\">name</th>\n",
       "      <th title=\"Role\">role</th>\n",
       "      <th title=\"Uptime (Sec)\">uptime</th>\n",
       "      <th title=\"Running\">running</th>\n",
       "      <th title=\"Stalled\">stalled</th>\n",
       "    </tr>\n",
       "  </thead>\n",
       "  <tbody>\n",
       "    <tr>\n",
       "      <td>0</td>\n",
       "      <td>controller.sas-cas-server-default.sas-viya.svc...</td>\n",
       "      <td>controller</td>\n",
       "      <td>4.752</td>\n",
       "      <td>0</td>\n",
       "      <td>0</td>\n",
       "    </tr>\n",
       "  </tbody>\n",
       "</table>\n",
       "</div>\n",
       "</div>\n",
       "<div class=\"cas-results-key\"><hr/><b>&#167; server</b></div>\n",
       "<div class=\"cas-results-body\">\n",
       "<div>\n",
       "<style scoped>\n",
       "    .dataframe tbody tr th:only-of-type {\n",
       "        vertical-align: middle;\n",
       "    }\n",
       "\n",
       "    .dataframe tbody tr th {\n",
       "        vertical-align: top;\n",
       "    }\n",
       "\n",
       "    .dataframe thead th {\n",
       "        text-align: right;\n",
       "    }\n",
       "</style>\n",
       "<table border=\"1\" class=\"dataframe\"><caption>Server Status</caption>\n",
       "  <thead>\n",
       "    <tr style=\"text-align: right;\">\n",
       "      <th title=\"\"></th>\n",
       "      <th title=\"Node Count\">nodes</th>\n",
       "      <th title=\"Total Actions\">actions</th>\n",
       "    </tr>\n",
       "  </thead>\n",
       "  <tbody>\n",
       "    <tr>\n",
       "      <td>0</td>\n",
       "      <td>1</td>\n",
       "      <td>9</td>\n",
       "    </tr>\n",
       "  </tbody>\n",
       "</table>\n",
       "</div>\n",
       "</div>\n",
       "<div class=\"cas-output-area\"></div>\n",
       "<p class=\"cas-results-performance\"><small><span class=\"cas-elapsed\">elapsed 0.00075s</span> &#183; <span class=\"cas-user\">user 0.000559s</span> &#183; <span class=\"cas-sys\">sys 0.000163s</span> &#183; <span class=\"cas-memory\">mem 0.322MB</span></small></p>"
      ],
      "text/plain": [
       "[About]\n",
       "\n",
       " {'CAS': 'Cloud Analytic Services',\n",
       "  'CASCacheLocation': 'CAS Disk Cache',\n",
       "  'CASHostAccountRequired': 'OPTIONAL',\n",
       "  'Copyright': 'Copyright © 2014-2022 SAS Institute Inc. All Rights Reserved.',\n",
       "  'ServerTime': '2022-08-07T05:40:26Z',\n",
       "  'System': {'Hostname': 'controller.sas-cas-server-default.sas-viya.svc.cluster.local',\n",
       "   'Linux Distribution': 'Red Hat Enterprise Linux release 8.6 (Ootpa)',\n",
       "   'Model Number': 'x86_64',\n",
       "   'OS Family': 'LIN X64',\n",
       "   'OS Name': 'Linux',\n",
       "   'OS Release': '3.10.0-1160.6.1.el7.x86_64',\n",
       "   'OS Version': '#1 SMP Tue Nov 17 13:59:11 UTC 2020'},\n",
       "  'Transferred': 'NO',\n",
       "  'Version': '4.00',\n",
       "  'VersionLong': 'V.04.00M0P07182022',\n",
       "  'Viya Release': '20220721.1658437616927',\n",
       "  'Viya Version': 'Stable 2022.1.3',\n",
       "  'license': {'expires': '22Oct2022:00:00:00',\n",
       "   'gracePeriod': 45,\n",
       "   'site': 'VIYA 4 W ESP, ACCESS, VA, VDMML, AIOT, AND PQA',\n",
       "   'siteNum': 70180938,\n",
       "   'warningPeriod': 49}}\n",
       "\n",
       "[nodestatus]\n",
       "\n",
       " Node Status\n",
       " \n",
       "                                                 name        role  uptime  running  stalled\n",
       " 0  controller.sas-cas-server-default.sas-viya.svc...  controller   4.752        0        0\n",
       "\n",
       "[server]\n",
       "\n",
       " Server Status\n",
       " \n",
       "    nodes  actions\n",
       " 0      1        9\n",
       "\n",
       "+ Elapsed: 0.00075s, user: 0.000559s, sys: 0.000163s, mem: 0.322mb"
      ]
     },
     "execution_count": 107,
     "metadata": {},
     "output_type": "execute_result"
    }
   ],
   "source": [
    "conn.serverStatus()"
   ]
  },
  {
   "cell_type": "code",
   "execution_count": 108,
   "id": "2a9b90d1-8dcb-4f6a-b7ff-151b996e7396",
   "metadata": {},
   "outputs": [],
   "source": [
    "if not os.path.exists('Models'):\n",
    "    os.makedirs('Models')"
   ]
  },
  {
   "cell_type": "code",
   "execution_count": null,
   "id": "5b6916cd-8740-4e11-aee2-476b9c3fa3c4",
   "metadata": {},
   "outputs": [],
   "source": [
    "#tbl = conn.read_csv(\"./datasets/hmeq.csv\",casout=dict(name='hmeq'))\n"
   ]
  },
  {
   "cell_type": "code",
   "execution_count": null,
   "id": "a46f0804-400f-4680-a973-4273ab287cc7",
   "metadata": {},
   "outputs": [],
   "source": [
    "\n",
    "start_time = time.time()\n",
    "\n",
    "print(\"--- %s seconds ---\" % (time.time() - start_time))"
   ]
  },
  {
   "cell_type": "markdown",
   "id": "f51bf71a-b002-4a99-be17-9e48a4f9ab33",
   "metadata": {
    "tags": []
   },
   "source": [
    "#  Modelling Using SAS Cluster"
   ]
  },
  {
   "cell_type": "code",
   "execution_count": 109,
   "id": "8b59ceb4-f0c7-4f13-8945-16581dc61ff8",
   "metadata": {},
   "outputs": [
    {
     "name": "stdout",
     "output_type": "stream",
     "text": [
      "NOTE: Added action set 'sampling'.\n",
      "NOTE: Added action set 'FedSQL'.\n",
      "NOTE: Added action set 'lightgradboost'.\n"
     ]
    }
   ],
   "source": [
    "#Load Required Actionset\n",
    "Actionsetlist = [\"sampling\",\"FedSQL\",\"lightgradboost\"]\n",
    "for act in range(len(Actionsetlist)):\n",
    "    conn.loadactionset(Actionsetlist[act])"
   ]
  },
  {
   "cell_type": "code",
   "execution_count": 123,
   "id": "21f442e3-2617-441a-99ed-cab8677ba420",
   "metadata": {},
   "outputs": [],
   "source": [
    "RawTable = 'HMEQ'\n",
    "RawTablelib = 'casuser'\n",
    "Target = \"BAD\"\n",
    "OversamplingOutTable = RawTable + '_Out_Over'\n",
    "PartitionedTable = RawTable + '_Part'"
   ]
  },
  {
   "cell_type": "code",
   "execution_count": null,
   "id": "b5f6f74c-0f5c-4996-a748-13e963ad0412",
   "metadata": {},
   "outputs": [],
   "source": []
  },
  {
   "cell_type": "code",
   "execution_count": 111,
   "id": "fd7b11ce-0e9c-4706-8178-ff287701793c",
   "metadata": {},
   "outputs": [],
   "source": [
    "#Connect Data and assign\n",
    "def AssignRawTable(table,library):\n",
    "    tbl = conn.CASTable(name=RawTable,caslib=RawTablelib)\n",
    "    return tbl\n",
    "    "
   ]
  },
  {
   "cell_type": "code",
   "execution_count": 112,
   "id": "d5d3d5ce-cee7-4ffb-be67-4c95cd13d96d",
   "metadata": {},
   "outputs": [],
   "source": [
    "tbl = AssignRawTable(table=RawTable,library=RawTablelib) "
   ]
  },
  {
   "cell_type": "code",
   "execution_count": 11,
   "id": "bb91e19b-d9a6-499f-83c4-6dc8e1fb186c",
   "metadata": {},
   "outputs": [],
   "source": [
    "#tbl.fetch(to=10)"
   ]
  },
  {
   "cell_type": "code",
   "execution_count": null,
   "id": "889f77dc-07eb-4fe7-a5ec-090def99307b",
   "metadata": {},
   "outputs": [],
   "source": [
    "\n"
   ]
  },
  {
   "cell_type": "code",
   "execution_count": 12,
   "id": "227e1367-faa6-43b6-a3d6-c05a69b72906",
   "metadata": {
    "tags": []
   },
   "outputs": [
    {
     "name": "stderr",
     "output_type": "stream",
     "text": [
      "C:\\Users\\turkak\\AppData\\Local\\Temp\\ipykernel_15256\\1169668044.py:8: DeprecationWarning: Importing display from IPython.core.display is deprecated since IPython 7.14, please import from IPython display\n",
      "  from IPython.core.display import display, HTML\n"
     ]
    },
    {
     "data": {
      "text/html": [
       "<div>\n",
       "<style scoped>\n",
       "    .dataframe tbody tr th:only-of-type {\n",
       "        vertical-align: middle;\n",
       "    }\n",
       "\n",
       "    .dataframe tbody tr th {\n",
       "        vertical-align: top;\n",
       "    }\n",
       "\n",
       "    .dataframe thead th {\n",
       "        text-align: right;\n",
       "    }\n",
       "</style>\n",
       "<table border=\"1\" class=\"dataframe\"><caption>Selected Rows from Table HMEQ_FREQ</caption>\n",
       "  <thead>\n",
       "    <tr style=\"text-align: right;\">\n",
       "      <th title=\"\"></th>\n",
       "      <th title=\"_Column_\">_Column_</th>\n",
       "      <th title=\"_Numvar_\">_Numvar_</th>\n",
       "      <th title=\"_Fmtvar_\">_Fmtvar_</th>\n",
       "      <th title=\"_Level_\">_Level_</th>\n",
       "      <th title=\"_Frequency_\">_Frequency_</th>\n",
       "    </tr>\n",
       "  </thead>\n",
       "  <tbody>\n",
       "    <tr>\n",
       "      <td>0</td>\n",
       "      <td>BAD</td>\n",
       "      <td>1.0</td>\n",
       "      <td>1</td>\n",
       "      <td>1.0</td>\n",
       "      <td>1189.0</td>\n",
       "    </tr>\n",
       "    <tr>\n",
       "      <td>1</td>\n",
       "      <td>BAD</td>\n",
       "      <td>0.0</td>\n",
       "      <td>0</td>\n",
       "      <td>2.0</td>\n",
       "      <td>4771.0</td>\n",
       "    </tr>\n",
       "  </tbody>\n",
       "</table>\n",
       "</div>"
      ],
      "text/plain": [
       "Selected Rows from Table HMEQ_FREQ\n",
       "\n",
       "  _Column_  _Numvar_      _Fmtvar_  _Level_  _Frequency_\n",
       "0      BAD       1.0             1      1.0       1189.0\n",
       "1      BAD       0.0             0      2.0       4771.0"
      ]
     },
     "metadata": {},
     "output_type": "display_data"
    }
   ],
   "source": [
    "res = conn.simple.freq(                           # 1\n",
    "    inputs = [{\"name\":\"bad\"}],                # 2\n",
    "    table = {\"name\":\"hmeq\"},                   # 3\n",
    "    casOut = {\"name\":\"hmeq_freq\",              # 4\n",
    "              \"replace\":True})\n",
    "\n",
    "res = conn.table.fetch(table = \"hmeq_freq\")       # 5\n",
    "from IPython.core.display import display, HTML\n",
    "display(res[\"Fetch\"])\n",
    "\n",
    "piedata = conn.CASTable(                          # 6\n",
    "    \"hmeq_freq\").to_frame().sort_values(['_Frequency_'],\n",
    "                                        ascending=False)\n",
    "\n"
   ]
  },
  {
   "cell_type": "code",
   "execution_count": null,
   "id": "f075f143-94ab-4ec2-bb80-9b8930e88c36",
   "metadata": {
    "tags": []
   },
   "outputs": [],
   "source": [
    "'''import matplotlib.pyplot as plt\n",
    "fig, ax = plt.subplots(figsize = (4.8, 3.6))\n",
    "plt.title(\"Models Produced by Vehicle Type\")\n",
    "ax.pie(piedata._Frequency_, labels = piedata._Fmtvar_, \n",
    "       radius=1.1, autopct = \"%.1f%%\", pctdistance=0.75)\n",
    "ax.get_figure()\n",
    "'''"
   ]
  },
  {
   "cell_type": "code",
   "execution_count": 60,
   "id": "90925e55-6814-4035-990e-488adcfb2e26",
   "metadata": {},
   "outputs": [],
   "source": [
    "#oversdict = dict(partind =True,eventprop = 0.3,event =\"1\",samppctevt=90)"
   ]
  },
  {
   "cell_type": "code",
   "execution_count": null,
   "id": "5f6c98f3-c732-43e9-910c-267c64b49e68",
   "metadata": {},
   "outputs": [],
   "source": []
  },
  {
   "cell_type": "code",
   "execution_count": 128,
   "id": "ff3105dc-45b1-4365-9bcc-8effda40a45f",
   "metadata": {},
   "outputs": [],
   "source": [
    "def oversample(Table=RawTable,OverSamplingOut=OversamplingOutTable,**kwargs):\n",
    "    \n",
    "    DisplayDict = dict(names = \"OVERFreq\") \n",
    "    OverSamplingOutDict = dict(casout=dict(name=OverSamplingOut,replace=True),copyVars= \"ALL\")\n",
    "    OverSamplingTableDict = dict(name = RawTable,groupBy = [Target]) # Oversampling works with groupBy Column -Target Field \n",
    "    OutputTablesDict = dict(names = \"OVERFreq\",replace = True)\n",
    "    \n",
    "    conn.oversample(display=DisplayDict,\n",
    "                    output=OverSamplingOutDict,\n",
    "                    partind=kwargs['partind'],\n",
    "                    seed=10,\n",
    "                    eventprop=kwargs['eventprop'],\n",
    "                    event=kwargs['event'],\n",
    "                    samppctevt=kwargs['samppctevt'],\n",
    "                    table=OverSamplingTableDict,\n",
    "                    outputTables=OutputTablesDict)\n",
    "    \n",
    "    over_out=conn.CASTable(OversamplingOutTable)\n",
    "    return over_out"
   ]
  },
  {
   "cell_type": "code",
   "execution_count": 130,
   "id": "8862875f-addb-4a11-a1d0-33102c002d6d",
   "metadata": {},
   "outputs": [
    {
     "name": "stdout",
     "output_type": "stream",
     "text": [
      "NOTE: Oversampling is in effect.\n",
      "NOTE: Using SEED=10 for sampling.\n",
      "NOTE: The CAS table 'OVERFreq' in caslib 'CASUSER(sasdemo)' has 2 rows and 4 columns.\n"
     ]
    }
   ],
   "source": [
    "over_out = oversample(Table=RawTable,OverSamplingOut=OversamplingOutTable,partind=False,eventprop=0.3,event =\"1\",samppctevt=90)"
   ]
  },
  {
   "cell_type": "code",
   "execution_count": 122,
   "id": "ac5ca408-e93d-4763-bdb9-94045201f6c5",
   "metadata": {},
   "outputs": [
    {
     "data": {
      "text/html": [
       "<div class=\"cas-results-key\"><b>&#167; Fetch</b></div>\n",
       "<div class=\"cas-results-body\">\n",
       "<div>\n",
       "<style scoped>\n",
       "    .dataframe tbody tr th:only-of-type {\n",
       "        vertical-align: middle;\n",
       "    }\n",
       "\n",
       "    .dataframe tbody tr th {\n",
       "        vertical-align: top;\n",
       "    }\n",
       "\n",
       "    .dataframe thead th {\n",
       "        text-align: right;\n",
       "    }\n",
       "</style>\n",
       "<table border=\"1\" class=\"dataframe\"><caption>Selected Rows from Table OVERFREQ</caption>\n",
       "  <thead>\n",
       "    <tr style=\"text-align: right;\">\n",
       "      <th title=\"\"></th>\n",
       "      <th title=\"Index\">ByGrpID</th>\n",
       "      <th title=\"BAD\">BAD</th>\n",
       "      <th title=\"Number of Obs\">NObs</th>\n",
       "      <th title=\"Number of Samples\">NSamp</th>\n",
       "    </tr>\n",
       "  </thead>\n",
       "  <tbody>\n",
       "    <tr>\n",
       "      <td>0</td>\n",
       "      <td>0</td>\n",
       "      <td>0</td>\n",
       "      <td>4771</td>\n",
       "      <td>2497</td>\n",
       "    </tr>\n",
       "    <tr>\n",
       "      <td>1</td>\n",
       "      <td>1</td>\n",
       "      <td>1</td>\n",
       "      <td>1189</td>\n",
       "      <td>1070</td>\n",
       "    </tr>\n",
       "  </tbody>\n",
       "</table>\n",
       "</div>\n",
       "</div>\n",
       "<div class=\"cas-output-area\"></div>\n",
       "<p class=\"cas-results-performance\"><small><span class=\"cas-elapsed\">elapsed 0.00111s</span> &#183; <span class=\"cas-user\">user 0.00108s</span> &#183; <span class=\"cas-memory\">mem 0.977MB</span></small></p>"
      ],
      "text/plain": [
       "[Fetch]\n",
       "\n",
       " Selected Rows from Table OVERFREQ\n",
       " \n",
       "    ByGrpID BAD  NObs  NSamp\n",
       " 0        0   0  4771   2497\n",
       " 1        1   1  1189   1070\n",
       "\n",
       "+ Elapsed: 0.00111s, user: 0.00108s, mem: 0.977mb"
      ]
     },
     "execution_count": 122,
     "metadata": {},
     "output_type": "execute_result"
    }
   ],
   "source": [
    "conn.CASTable('OVERFreq').fetch(to=10)"
   ]
  },
  {
   "cell_type": "code",
   "execution_count": null,
   "id": "d0ebab30-9962-4f72-a247-c7fc84daaede",
   "metadata": {
    "scrolled": true,
    "tags": []
   },
   "outputs": [],
   "source": [
    "'''\n",
    "# Defining Oversample Parameters\n",
    "DisplayDict = dict(names = \"OVERFreq\") \n",
    "OverSamplingOutDict = dict(casout=dict(name=\"hmeq_out_over\",replace=True),copyVars= \"ALL\")\n",
    "OverSamplingTableDict = dict(name = \"hmeq\",groupBy = [\"bad\"]) # Oversampling works with groupBy Column -Target Field \n",
    "OutputTablesDict = dict(names = \"OVERFreq\",replace = True)\n",
    "'''"
   ]
  },
  {
   "cell_type": "code",
   "execution_count": null,
   "id": "e6e5d6b0-2eed-4bc5-8f59-0f1fec1723c6",
   "metadata": {},
   "outputs": [],
   "source": [
    "'''\n",
    "conn.oversample(display=DisplayDict,\n",
    "             output=OverSamplingOutDict,\n",
    "             partind=False, seed=10, eventprop=0.3, event=\"1\", samppctevt=90,\n",
    "             table=OverSamplingTableDict,\n",
    "             outputTables=OutputTablesDict)\n",
    "\n",
    "#over_out=conn.CASTable('hmeq_out_over')\n",
    "#over_out.fetch(to=20)\n",
    "\n",
    "#over_out2=conn.CASTable('OVERFreq')\n",
    "#over_out2.fetch()\n",
    "'''"
   ]
  },
  {
   "cell_type": "code",
   "execution_count": null,
   "id": "5b277449-ccba-4ec2-9d14-7c1fcfd3f8d7",
   "metadata": {},
   "outputs": [],
   "source": []
  },
  {
   "cell_type": "code",
   "execution_count": 196,
   "id": "d9092c9a-3fef-4a11-8ca5-76de8bf03c01",
   "metadata": {},
   "outputs": [],
   "source": [
    "# Partitioning the Data\n",
    "def createpartition(samppct):\n",
    "    PartitionedTable = RawTable + '_Part'\n",
    "    hmeq_part = conn.CASTable(PartitionedTable, replace=True\n",
    "                              ,computedVarsProgram = 'BAD_C = put(BAD,1.);' # (Create a new variable with program)\n",
    "                             )\n",
    "    \n",
    "    over_out.groupby(Target).sampling.stratified(output=dict(casout=hmeq_part, copyvars='all'),\n",
    "                                                 samppct=samppct,\n",
    "                                                 partind=True\n",
    "                                                )\n",
    "    \n",
    "    return hmeq_part"
   ]
  },
  {
   "cell_type": "code",
   "execution_count": 197,
   "id": "113e0cf5-041c-4e96-ba81-382326cbfb71",
   "metadata": {},
   "outputs": [
    {
     "name": "stdout",
     "output_type": "stream",
     "text": [
      "NOTE: Stratified sampling is in effect.\n",
      "NOTE: Using SEED=116373010 for sampling.\n"
     ]
    }
   ],
   "source": [
    "hmeq_part = createpartition(70)"
   ]
  },
  {
   "cell_type": "code",
   "execution_count": null,
   "id": "e0e21f9d-b83f-4c63-bb8d-e9d885feebd4",
   "metadata": {},
   "outputs": [],
   "source": []
  },
  {
   "cell_type": "code",
   "execution_count": null,
   "id": "380d7869-33bb-4032-b87e-6bda46e5fe3a",
   "metadata": {},
   "outputs": [],
   "source": [
    "#stra_out.fetch(to=20)"
   ]
  },
  {
   "cell_type": "code",
   "execution_count": null,
   "id": "4a39fb8c-7fbd-401a-93c2-5da2495c1d9d",
   "metadata": {},
   "outputs": [],
   "source": [
    "#stra_out2=conn.CASTable('STRAFreq')\n",
    "#stra_out2.fetch(to=20)\n",
    "\n"
   ]
  },
  {
   "cell_type": "code",
   "execution_count": null,
   "id": "899e1179-752a-4fab-8a4f-4075560b7bfb",
   "metadata": {},
   "outputs": [],
   "source": [
    "#stra_out3=conn.CASTable('PartIndMap')\n",
    "#stra_out3.fetch()"
   ]
  },
  {
   "cell_type": "code",
   "execution_count": 201,
   "id": "53fd3109-c155-46ad-b96a-819d7b924321",
   "metadata": {},
   "outputs": [],
   "source": [
    "Train = hmeq_part.query('_partind_ = 1')\n",
    "Test = hmeq_part.query('_partind_ = 0')"
   ]
  },
  {
   "cell_type": "code",
   "execution_count": null,
   "id": "8170211b-1baa-4b13-b691-1f5198aeaf8c",
   "metadata": {},
   "outputs": [],
   "source": [
    "hmeq_part_1.dtypes"
   ]
  },
  {
   "cell_type": "code",
   "execution_count": null,
   "id": "ea4cc7c4-3131-4487-917d-6c198ae85fb5",
   "metadata": {},
   "outputs": [],
   "source": [
    "nominals = []\n",
    "cattypes = ['varchar','char', 'categorical', 'object']\n",
    "for cat in cattypes:\n",
    "    nominals.append(cat)\n",
    "hmeq_part_1.dtypes"
   ]
  },
  {
   "cell_type": "code",
   "execution_count": 214,
   "id": "3f89a174-00d1-41d5-946d-69f316f3d705",
   "metadata": {},
   "outputs": [],
   "source": [
    "feature_list = Train.columns.to_list()\n",
    "vartypes = Train.dtypes\n",
    "drop_cols = ['_Freq_','_PartInd_',Target,'BAD_C']\n",
    "feature_list = [x for x in feature_list if (x not in drop_cols )]"
   ]
  },
  {
   "cell_type": "code",
   "execution_count": null,
   "id": "e125933c-5485-44f0-9f18-bb20ec50faa1",
   "metadata": {},
   "outputs": [],
   "source": []
  },
  {
   "cell_type": "code",
   "execution_count": 216,
   "id": "38c7c56e-26a4-4ed9-9f65-5a8b1f887fb7",
   "metadata": {},
   "outputs": [],
   "source": [
    "\n",
    "numeric_list = [x for x in feature_list if (vartypes == 'double')[x] == True]\n",
    "nominal_list = [x for x in Model_Inputs if (vartypes == 'double')[x] == False]\n",
    "Model_Inputs = numeric_list + nominal_list"
   ]
  },
  {
   "cell_type": "code",
   "execution_count": null,
   "id": "12d6867b-1d61-4815-bce5-a532cb96120e",
   "metadata": {},
   "outputs": [],
   "source": []
  },
  {
   "cell_type": "code",
   "execution_count": 218,
   "id": "1f614737-2676-4bab-93b1-9c261bf728fa",
   "metadata": {},
   "outputs": [
    {
     "data": {
      "text/html": [
       "<div>\n",
       "<style scoped>\n",
       "    .dataframe tbody tr th:only-of-type {\n",
       "        vertical-align: middle;\n",
       "    }\n",
       "\n",
       "    .dataframe tbody tr th {\n",
       "        vertical-align: top;\n",
       "    }\n",
       "\n",
       "    .dataframe thead th {\n",
       "        text-align: right;\n",
       "    }\n",
       "</style>\n",
       "<table border=\"1\" class=\"dataframe\"><caption>Selected Rows from Table HMEQ_PART</caption>\n",
       "  <thead>\n",
       "    <tr style=\"text-align: right;\">\n",
       "      <th title=\"\"></th>\n",
       "      <th title=\"BAD\">BAD</th>\n",
       "      <th title=\"LOAN\">LOAN</th>\n",
       "      <th title=\"MORTDUE\">MORTDUE</th>\n",
       "      <th title=\"VALUE\">VALUE</th>\n",
       "      <th title=\"REASON\">REASON</th>\n",
       "      <th title=\"JOB\">JOB</th>\n",
       "      <th title=\"YOJ\">YOJ</th>\n",
       "      <th title=\"DEROG\">DEROG</th>\n",
       "      <th title=\"DELINQ\">DELINQ</th>\n",
       "      <th title=\"CLAGE\">CLAGE</th>\n",
       "      <th title=\"NINQ\">NINQ</th>\n",
       "      <th title=\"CLNO\">CLNO</th>\n",
       "      <th title=\"DEBTINC\">DEBTINC</th>\n",
       "      <th title=\"Frequency\">_Freq_</th>\n",
       "      <th title=\"Partition Indicator\">_PartInd_</th>\n",
       "      <th title=\"BAD_C\">BAD_C</th>\n",
       "    </tr>\n",
       "  </thead>\n",
       "  <tbody>\n",
       "    <tr>\n",
       "      <td>0</td>\n",
       "      <td>1.0</td>\n",
       "      <td>1100.0</td>\n",
       "      <td>25860.0</td>\n",
       "      <td>39025.0</td>\n",
       "      <td>HomeImp</td>\n",
       "      <td>Other</td>\n",
       "      <td>10.5</td>\n",
       "      <td>0.0</td>\n",
       "      <td>0.0</td>\n",
       "      <td>94.366667</td>\n",
       "      <td>1.0</td>\n",
       "      <td>9.0</td>\n",
       "      <td>NaN</td>\n",
       "      <td>0.664989</td>\n",
       "      <td>1.0</td>\n",
       "      <td>1</td>\n",
       "    </tr>\n",
       "    <tr>\n",
       "      <td>1</td>\n",
       "      <td>1.0</td>\n",
       "      <td>1500.0</td>\n",
       "      <td>13500.0</td>\n",
       "      <td>16700.0</td>\n",
       "      <td>HomeImp</td>\n",
       "      <td>Other</td>\n",
       "      <td>4.0</td>\n",
       "      <td>0.0</td>\n",
       "      <td>0.0</td>\n",
       "      <td>149.466667</td>\n",
       "      <td>1.0</td>\n",
       "      <td>10.0</td>\n",
       "      <td>NaN</td>\n",
       "      <td>0.664989</td>\n",
       "      <td>1.0</td>\n",
       "      <td>1</td>\n",
       "    </tr>\n",
       "    <tr>\n",
       "      <td>2</td>\n",
       "      <td>1.0</td>\n",
       "      <td>1500.0</td>\n",
       "      <td>NaN</td>\n",
       "      <td>NaN</td>\n",
       "      <td></td>\n",
       "      <td></td>\n",
       "      <td>NaN</td>\n",
       "      <td>NaN</td>\n",
       "      <td>NaN</td>\n",
       "      <td>NaN</td>\n",
       "      <td>NaN</td>\n",
       "      <td>NaN</td>\n",
       "      <td>NaN</td>\n",
       "      <td>0.664989</td>\n",
       "      <td>1.0</td>\n",
       "      <td>1</td>\n",
       "    </tr>\n",
       "    <tr>\n",
       "      <td>3</td>\n",
       "      <td>1.0</td>\n",
       "      <td>1700.0</td>\n",
       "      <td>30548.0</td>\n",
       "      <td>40320.0</td>\n",
       "      <td>HomeImp</td>\n",
       "      <td>Other</td>\n",
       "      <td>9.0</td>\n",
       "      <td>0.0</td>\n",
       "      <td>0.0</td>\n",
       "      <td>101.466002</td>\n",
       "      <td>1.0</td>\n",
       "      <td>8.0</td>\n",
       "      <td>37.113614</td>\n",
       "      <td>0.664989</td>\n",
       "      <td>1.0</td>\n",
       "      <td>1</td>\n",
       "    </tr>\n",
       "    <tr>\n",
       "      <td>4</td>\n",
       "      <td>1.0</td>\n",
       "      <td>1800.0</td>\n",
       "      <td>48649.0</td>\n",
       "      <td>57037.0</td>\n",
       "      <td>HomeImp</td>\n",
       "      <td>Other</td>\n",
       "      <td>5.0</td>\n",
       "      <td>3.0</td>\n",
       "      <td>2.0</td>\n",
       "      <td>77.100000</td>\n",
       "      <td>1.0</td>\n",
       "      <td>17.0</td>\n",
       "      <td>NaN</td>\n",
       "      <td>0.664989</td>\n",
       "      <td>1.0</td>\n",
       "      <td>1</td>\n",
       "    </tr>\n",
       "  </tbody>\n",
       "</table>\n",
       "</div>"
      ],
      "text/plain": [
       "Selected Rows from Table HMEQ_PART\n",
       "\n",
       "   BAD    LOAN  MORTDUE    VALUE   REASON    JOB   YOJ  DEROG  DELINQ       CLAGE  NINQ  CLNO    DEBTINC    _Freq_  _PartInd_ BAD_C\n",
       "0  1.0  1100.0  25860.0  39025.0  HomeImp  Other  10.5    0.0     0.0   94.366667   1.0   9.0        NaN  0.664989        1.0     1\n",
       "1  1.0  1500.0  13500.0  16700.0  HomeImp  Other   4.0    0.0     0.0  149.466667   1.0  10.0        NaN  0.664989        1.0     1\n",
       "2  1.0  1500.0      NaN      NaN                   NaN    NaN     NaN         NaN   NaN   NaN        NaN  0.664989        1.0     1\n",
       "3  1.0  1700.0  30548.0  40320.0  HomeImp  Other   9.0    0.0     0.0  101.466002   1.0   8.0  37.113614  0.664989        1.0     1\n",
       "4  1.0  1800.0  48649.0  57037.0  HomeImp  Other   5.0    3.0     2.0   77.100000   1.0  17.0        NaN  0.664989        1.0     1"
      ]
     },
     "execution_count": 218,
     "metadata": {},
     "output_type": "execute_result"
    }
   ],
   "source": []
  },
  {
   "cell_type": "code",
   "execution_count": 235,
   "id": "0bbc4fa3-5a34-4769-935e-4090cca9cce6",
   "metadata": {},
   "outputs": [],
   "source": [
    "def lgb_sas():\n",
    "    numeric_list = [x for x in feature_list if (vartypes == 'double')[x] == True]\n",
    "    nominal_list = [x for x in feature_list if (vartypes != 'double')[x] == True]\n",
    "    Model_Inputs = numeric_list + nominal_list\n",
    "    conn.lightgradboost.lgbmTrain(inputs=numeric_list,objective=\"BINARY\",\n",
    "        nominals=[Target],\n",
    "        #nominals=nominal_list.append(Target),                      \n",
    "        display= {'names':['IterHistory','ModelInfo','NObs']}  ,                \n",
    "        output={'casout':{'name':'scored_train','replace':True}},\n",
    "        savestate={'name':'savedstate','replace':True},\n",
    "        seed=12345,\n",
    "        table=Train,\n",
    "        target=Target,\n",
    "        validtable=Test,\n",
    "        #outputTables={'names':['IterHistory_Train','ModelInfo','NObs'],'replace':True})\n",
    "        outputTables = {\"includeAll\":True,\"replace\":True})"
   ]
  },
  {
   "cell_type": "code",
   "execution_count": 236,
   "id": "ea12bd6d-4de7-463f-be70-856b736e0e97",
   "metadata": {},
   "outputs": [
    {
     "data": {
      "text/html": [
       "<div class=\"cas-results-key\"><b>&#167; Fetch</b></div>\n",
       "<div class=\"cas-results-body\">\n",
       "<div>\n",
       "<style scoped>\n",
       "    .dataframe tbody tr th:only-of-type {\n",
       "        vertical-align: middle;\n",
       "    }\n",
       "\n",
       "    .dataframe tbody tr th {\n",
       "        vertical-align: top;\n",
       "    }\n",
       "\n",
       "    .dataframe thead th {\n",
       "        text-align: right;\n",
       "    }\n",
       "</style>\n",
       "<table border=\"1\" class=\"dataframe\"><caption>Selected Rows from Table MODELINFO</caption>\n",
       "  <thead>\n",
       "    <tr style=\"text-align: right;\">\n",
       "      <th title=\"\"></th>\n",
       "      <th title=\"RowId\">RowId</th>\n",
       "      <th title=\"Description\">Description</th>\n",
       "      <th title=\"cValue\">cValue</th>\n",
       "      <th title=\"Value\">Value</th>\n",
       "    </tr>\n",
       "  </thead>\n",
       "  <tbody>\n",
       "    <tr>\n",
       "      <td>0</td>\n",
       "      <td>BOOSTING</td>\n",
       "      <td>boosting method</td>\n",
       "      <td>gbdt</td>\n",
       "      <td>NaN</td>\n",
       "    </tr>\n",
       "    <tr>\n",
       "      <td>1</td>\n",
       "      <td>OBJECTIVE</td>\n",
       "      <td>objective type</td>\n",
       "      <td>binary</td>\n",
       "      <td>NaN</td>\n",
       "    </tr>\n",
       "    <tr>\n",
       "      <td>2</td>\n",
       "      <td>NBINS</td>\n",
       "      <td>Number of Bins</td>\n",
       "      <td></td>\n",
       "      <td>255.0</td>\n",
       "    </tr>\n",
       "    <tr>\n",
       "      <td>3</td>\n",
       "      <td>LEAFSIZE</td>\n",
       "      <td>Minimum Leaf Size</td>\n",
       "      <td></td>\n",
       "      <td>20.0</td>\n",
       "    </tr>\n",
       "    <tr>\n",
       "      <td>4</td>\n",
       "      <td>LASSO</td>\n",
       "      <td>Lasso (L1) penalty</td>\n",
       "      <td></td>\n",
       "      <td>0.0</td>\n",
       "    </tr>\n",
       "    <tr>\n",
       "      <td>5</td>\n",
       "      <td>RIDGE</td>\n",
       "      <td>Ridge (L2) penalty</td>\n",
       "      <td></td>\n",
       "      <td>0.0</td>\n",
       "    </tr>\n",
       "    <tr>\n",
       "      <td>6</td>\n",
       "      <td>MAXCAT</td>\n",
       "      <td>Maximal Categories</td>\n",
       "      <td></td>\n",
       "      <td>32.0</td>\n",
       "    </tr>\n",
       "  </tbody>\n",
       "</table>\n",
       "</div>\n",
       "</div>\n",
       "<div class=\"cas-output-area\"></div>\n",
       "<p class=\"cas-results-performance\"><small><span class=\"cas-elapsed\">elapsed 0.00144s</span> &#183; <span class=\"cas-user\">user 0.00139s</span> &#183; <span class=\"cas-sys\">sys 2.2e-05s</span> &#183; <span class=\"cas-memory\">mem 0.936MB</span></small></p>"
      ],
      "text/plain": [
       "[Fetch]\n",
       "\n",
       " Selected Rows from Table MODELINFO\n",
       " \n",
       "        RowId         Description  cValue  Value\n",
       " 0   BOOSTING     boosting method    gbdt    NaN\n",
       " 1  OBJECTIVE      objective type  binary    NaN\n",
       " 2      NBINS      Number of Bins          255.0\n",
       " 3   LEAFSIZE   Minimum Leaf Size           20.0\n",
       " 4      LASSO  Lasso (L1) penalty            0.0\n",
       " 5      RIDGE  Ridge (L2) penalty            0.0\n",
       " 6     MAXCAT  Maximal Categories           32.0\n",
       "\n",
       "+ Elapsed: 0.00144s, user: 0.00139s, sys: 2.2e-05s, mem: 0.936mb"
      ]
     },
     "execution_count": 237,
     "metadata": {},
     "output_type": "execute_result"
    }
   ],
   "source": [
    "lgb_sas()"
   ]
  },
  {
   "cell_type": "code",
   "execution_count": null,
   "id": "d54d668f-a23f-40b8-9a50-c2d7276e27f8",
   "metadata": {},
   "outputs": [],
   "source": []
  },
  {
   "cell_type": "code",
   "execution_count": 221,
   "id": "3d39823e-5563-4948-8a54-f2575946d6cf",
   "metadata": {},
   "outputs": [
    {
     "name": "stdout",
     "output_type": "stream",
     "text": [
      "NOTE: The misclassification error is     0.00.\n",
      "NOTE: 345489 bytes were written to the table \"savedstate\" in the caslib \"CASUSER(sasdemo)\".\n",
      "NOTE: The CAS table 'ModelInfo' in caslib 'CASUSER(sasdemo)' has 7 rows and 4 columns.\n",
      "NOTE: The CAS table 'NObs' in caslib 'CASUSER(sasdemo)' has 4 rows and 3 columns.\n",
      "NOTE: The CAS table 'IterHistory' in caslib 'CASUSER(sasdemo)' has 100 rows and 3 columns.\n",
      "NOTE: lgbmTrain completed successfully.\n"
     ]
    }
   ],
   "source": [
    "conn.lightgradboost.lgbmTrain(inputs=numeric_list,objective=\"BINARY\",\n",
    "        #nominals=['REASON','JOB','BAD'],\n",
    "        nominals=[Target],                      \n",
    "        display= {'names':['IterHistory','ModelInfo','NObs']}  ,                \n",
    "        output={'casout':{'name':'scored_train','replace':True}},\n",
    "        savestate={'name':'savedstate','replace':True},\n",
    "        seed=12345,\n",
    "        table=hmeq_part_1,\n",
    "        target='BAD',\n",
    "        validtable=hmeq_part_0,\n",
    "        #outputTables={'names':['IterHistory_Train','ModelInfo','NObs'],'replace':True})\n",
    "        outputTables = {\"includeAll\":True,\"replace\":True})\n",
    "lgb_out =conn.CASTable('scored_train')"
   ]
  },
  {
   "cell_type": "code",
   "execution_count": 238,
   "id": "07f36152-0951-4a15-8447-356e0d3c8ad6",
   "metadata": {},
   "outputs": [
    {
     "name": "stdout",
     "output_type": "stream",
     "text": [
      "NOTE: Added action set 'aStore'.\n",
      "Basic Information\n",
      "\n",
      "         Attribute               Value\n",
      "0  Analytic Engine      lightGradBoost\n",
      "1     Time Created  07Aug2022:08:17:48\n",
      "Input Variables\n",
      "\n",
      "      Name  Length Role Type RawType FormatName\n",
      "0     LOAN     8.0   Id          Num           \n",
      "1  MORTDUE     8.0   Id          Num           \n",
      "2    VALUE     8.0   Id          Num           \n",
      "3      YOJ     8.0   Id          Num           \n",
      "4    DEROG     8.0   Id          Num           \n",
      "5   DELINQ     8.0   Id          Num           \n",
      "6    CLAGE     8.0   Id          Num           \n",
      "7     NINQ     8.0   Id          Num           \n",
      "8     CLNO     8.0   Id          Num           \n",
      "9  DEBTINC     8.0   Id          Num           \n",
      "Output Variables\n",
      "\n",
      "     Name  Length       Type             Label\n",
      "0   I_BAD    16.0  Character         Into: BAD\n",
      "1  P_BAD0     8.0        Num  Predicted: BAD=0\n",
      "2  P_BAD1     8.0        Num  Predicted: BAD=1\n",
      "data sasep.out;\n",
      "  dcl package score sc();\n",
      "  dcl double \"LOAN\";\n",
      "  dcl double \"MORTDUE\";\n",
      "  dcl double \"VALUE\";\n",
      "  dcl double \"YOJ\";\n",
      "  dcl double \"DEROG\";\n",
      "  dcl double \"DELINQ\";\n",
      "  dcl double \"CLAGE\";\n",
      "  dcl double \"NINQ\";\n",
      "  dcl double \"CLNO\";\n",
      "  dcl double \"DEBTINC\";\n",
      "  dcl varchar(16) \"I_BAD\" having label n'Into: BAD';\n",
      "  dcl double \"P_BAD0\" having label n'Predicted: BAD=0';\n",
      "  dcl double \"P_BAD1\" having label n'Predicted: BAD=1';\n",
      "  Keep \n",
      "    \"I_BAD\" \n",
      "    \"P_BAD0\" \n",
      "    \"P_BAD1\" \n",
      "    ;\n",
      "  varlist allvars[_all_];\n",
      "  method init();\n",
      "    sc.setvars(allvars);\n",
      "    sc.setKey(n'33F3CA26CEC11914F68B3BBF7516BEDEF8DF076B');\n",
      "  end;\n",
      "  method preScoreRecord();\n",
      "  end;\n",
      "  method postScoreRecord();\n",
      "  end;\n",
      "  method term();\n",
      "  end;\n",
      "  method run();\n",
      "    set sasep.in;\n",
      "    preScoreRecord();\n",
      "    sc.scoreRecord();\n",
      "    postScoreRecord();\n",
      "  end;\n",
      "enddata;\n",
      "\n"
     ]
    }
   ],
   "source": [
    "conn.loadactionset('aStore')\n",
    "\n",
    "m=conn.describe(\n",
    "   rstore='savedstate',\n",
    "   epcode=True\n",
    ")\n",
    "print(m.Description)\n",
    "print(m.InputVariables)\n",
    "print(m.OutputVariables)\n",
    "print(m.epcode)"
   ]
  },
  {
   "cell_type": "code",
   "execution_count": null,
   "id": "665297fc-c2fa-45af-be18-3958d7e67b8a",
   "metadata": {
    "tags": []
   },
   "outputs": [],
   "source": [
    "conn.CASTable('IterHistory').fetch(from_ =80 ,to=100)"
   ]
  },
  {
   "cell_type": "code",
   "execution_count": null,
   "id": "1a50be8c-9da7-4014-b433-ff4d9c54b1e7",
   "metadata": {
    "tags": []
   },
   "outputs": [],
   "source": [
    "\n",
    "conn.score(\n",
    "   table=hmeq_part_0,\n",
    "   casout={'name':'lgb_score_out','replace':True},\n",
    "   rstore='savedstate'\n",
    ")\n",
    "m=conn.fetch(table={'name':'lgb_score_out'})\n",
    "print(m)"
   ]
  },
  {
   "cell_type": "code",
   "execution_count": null,
   "id": "a3865304-e984-4781-a897-a5479557fd2c",
   "metadata": {},
   "outputs": [],
   "source": [
    "m"
   ]
  },
  {
   "cell_type": "code",
   "execution_count": null,
   "id": "f1529f7b-e583-41ae-b00b-e4a938ae023e",
   "metadata": {},
   "outputs": [],
   "source": [
    "lgb_out['I_BAD'].count()"
   ]
  },
  {
   "cell_type": "code",
   "execution_count": null,
   "id": "f74d7fa0-9508-4cfc-a978-e3a3ebb9fb9e",
   "metadata": {},
   "outputs": [],
   "source": [
    "hmeq_part_0['BAD'].count()"
   ]
  },
  {
   "cell_type": "code",
   "execution_count": null,
   "id": "401a403b-63ed-4399-b8b8-27697c12cb29",
   "metadata": {},
   "outputs": [],
   "source": [
    "#conn.close()"
   ]
  },
  {
   "cell_type": "code",
   "execution_count": null,
   "id": "cedacdd2-97e9-4930-a42f-ac5a97f38c09",
   "metadata": {},
   "outputs": [],
   "source": []
  }
 ],
 "metadata": {
  "kernelspec": {
   "display_name": "Python 3 (ipykernel)",
   "language": "python",
   "name": "python3"
  },
  "language_info": {
   "codemirror_mode": {
    "name": "ipython",
    "version": 3
   },
   "file_extension": ".py",
   "mimetype": "text/x-python",
   "name": "python",
   "nbconvert_exporter": "python",
   "pygments_lexer": "ipython3",
   "version": "3.9.12"
  },
  "toc-autonumbering": true,
  "toc-showcode": false,
  "toc-showmarkdowntxt": true
 },
 "nbformat": 4,
 "nbformat_minor": 5
}
