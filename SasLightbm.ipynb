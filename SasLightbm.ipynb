{
 "cells": [
  {
   "cell_type": "code",
   "execution_count": 57,
   "id": "1af682d1-d247-4fbf-aa6a-12c8223d4a70",
   "metadata": {},
   "outputs": [],
   "source": [
    "import swat\n",
    "import os\n",
    "import pandas as pd\n",
    "import numpy as np\n",
    "from sklearn.metrics import f1_score\n",
    "import lightgbm as lgb\n",
    "import time\n",
    "import gc\n",
    "from sklearn.model_selection import train_test_split\n",
    "from lightgbm import early_stopping\n",
    "try:\n",
    "    import cPickle as pickle\n",
    "except BaseException:\n",
    "    import pickle\n",
    "import time\n",
    "\n",
    "import sasctl.pzmm as pzmm\n",
    "from sasctl import Session\n",
    "from sasctl.services import model_repository as modelRepo\n",
    "from sklearn.metrics import auc, accuracy_score, confusion_matrix, mean_squared_error\n",
    "from sklearn.model_selection import cross_val_score, GridSearchCV, KFold, RandomizedSearchCV, train_test_split\n",
    "from pathlib import Path\n",
    "from sasctl.services import model_repository as mr\n",
    "from matplotlib import pyplot as plt\n",
    "%matplotlib inline"
   ]
  },
  {
   "cell_type": "code",
   "execution_count": 2,
   "id": "f48ebcfa-d6a2-4edc-afcd-b55e79484500",
   "metadata": {
    "tags": []
   },
   "outputs": [],
   "source": [
    "os.environ['CAS_CLIENT_SSL_CA_LIST'] = \"C:/Users/turkak/SASVIYACERT/my_ca_certificate.pem\"\n",
    "hostname = 'https://server.demo.sas.com:443/cas-shared-default-http/'\n",
    "username = 'sasdemo'\n",
    "password = 'Orion123'\n",
    "conn = swat.CAS('https://server.demo.sas.com:443/cas-shared-default-http/', username='sasdemo',password='Orion123')"
   ]
  },
  {
   "cell_type": "code",
   "execution_count": 3,
   "id": "61c3f494-562b-4b0c-9d14-9468464a5752",
   "metadata": {
    "tags": []
   },
   "outputs": [
    {
     "name": "stdout",
     "output_type": "stream",
     "text": [
      "NOTE: Grid node action status report: 1 nodes, 9 total actions executed.\n"
     ]
    },
    {
     "data": {
      "text/html": [
       "<div class=\"cas-results-key\"><b>&#167; About</b></div>\n",
       "<div class=\"cas-results-body\">\n",
       "<div>{'CAS': 'Cloud Analytic Services', 'CASCacheLocation': 'CAS Disk Cache', 'CASHostAccountRequired': 'OPTIONAL', 'Copyright': 'Copyright © 2014-2022 SAS Institute Inc. All Rights Reserved.', 'ServerTime': '2022-08-09T04:37:31Z', 'System': {'Hostname': 'controller.sas-cas-server-default.sas-viya.svc.cluster.local', 'Linux Distribution': 'Red Hat Enterprise Linux release 8.6 (Ootpa)', 'Model Number': 'x86_64', 'OS Family': 'LIN X64', 'OS Name': 'Linux', 'OS Release': '3.10.0-1160.6.1.el7.x86_64', 'OS Version': '#1 SMP Tue Nov 17 13:59:11 UTC 2020'}, 'Transferred': 'NO', 'Version': '4.00', 'VersionLong': 'V.04.00M0P07182022', 'Viya Release': '20220721.1658437616927', 'Viya Version': 'Stable 2022.1.3', 'license': {'expires': '22Oct2022:00:00:00', 'gracePeriod': 45, 'site': 'VIYA 4 W ESP, ACCESS, VA, VDMML, AIOT, AND PQA', 'siteNum': 70180938, 'warningPeriod': 49}}</div>\n",
       "</div>\n",
       "<div class=\"cas-results-key\"><hr/><b>&#167; nodestatus</b></div>\n",
       "<div class=\"cas-results-body\">\n",
       "<div>\n",
       "<style scoped>\n",
       "    .dataframe tbody tr th:only-of-type {\n",
       "        vertical-align: middle;\n",
       "    }\n",
       "\n",
       "    .dataframe tbody tr th {\n",
       "        vertical-align: top;\n",
       "    }\n",
       "\n",
       "    .dataframe thead th {\n",
       "        text-align: right;\n",
       "    }\n",
       "</style>\n",
       "<table border=\"1\" class=\"dataframe\"><caption>Node Status</caption>\n",
       "  <thead>\n",
       "    <tr style=\"text-align: right;\">\n",
       "      <th title=\"\"></th>\n",
       "      <th title=\"Node Name\">name</th>\n",
       "      <th title=\"Role\">role</th>\n",
       "      <th title=\"Uptime (Sec)\">uptime</th>\n",
       "      <th title=\"Running\">running</th>\n",
       "      <th title=\"Stalled\">stalled</th>\n",
       "    </tr>\n",
       "  </thead>\n",
       "  <tbody>\n",
       "    <tr>\n",
       "      <td>0</td>\n",
       "      <td>controller.sas-cas-server-default.sas-viya.svc...</td>\n",
       "      <td>controller</td>\n",
       "      <td>10.89</td>\n",
       "      <td>0</td>\n",
       "      <td>0</td>\n",
       "    </tr>\n",
       "  </tbody>\n",
       "</table>\n",
       "</div>\n",
       "</div>\n",
       "<div class=\"cas-results-key\"><hr/><b>&#167; server</b></div>\n",
       "<div class=\"cas-results-body\">\n",
       "<div>\n",
       "<style scoped>\n",
       "    .dataframe tbody tr th:only-of-type {\n",
       "        vertical-align: middle;\n",
       "    }\n",
       "\n",
       "    .dataframe tbody tr th {\n",
       "        vertical-align: top;\n",
       "    }\n",
       "\n",
       "    .dataframe thead th {\n",
       "        text-align: right;\n",
       "    }\n",
       "</style>\n",
       "<table border=\"1\" class=\"dataframe\"><caption>Server Status</caption>\n",
       "  <thead>\n",
       "    <tr style=\"text-align: right;\">\n",
       "      <th title=\"\"></th>\n",
       "      <th title=\"Node Count\">nodes</th>\n",
       "      <th title=\"Total Actions\">actions</th>\n",
       "    </tr>\n",
       "  </thead>\n",
       "  <tbody>\n",
       "    <tr>\n",
       "      <td>0</td>\n",
       "      <td>1</td>\n",
       "      <td>9</td>\n",
       "    </tr>\n",
       "  </tbody>\n",
       "</table>\n",
       "</div>\n",
       "</div>\n",
       "<div class=\"cas-output-area\"></div>\n",
       "<p class=\"cas-results-performance\"><small><span class=\"cas-elapsed\">elapsed 0.000879s</span> &#183; <span class=\"cas-user\">user 0.000741s</span> &#183; <span class=\"cas-sys\">sys 0.000106s</span> &#183; <span class=\"cas-memory\">mem 0.322MB</span></small></p>"
      ],
      "text/plain": [
       "[About]\n",
       "\n",
       " {'CAS': 'Cloud Analytic Services',\n",
       "  'CASCacheLocation': 'CAS Disk Cache',\n",
       "  'CASHostAccountRequired': 'OPTIONAL',\n",
       "  'Copyright': 'Copyright © 2014-2022 SAS Institute Inc. All Rights Reserved.',\n",
       "  'ServerTime': '2022-08-09T04:37:31Z',\n",
       "  'System': {'Hostname': 'controller.sas-cas-server-default.sas-viya.svc.cluster.local',\n",
       "   'Linux Distribution': 'Red Hat Enterprise Linux release 8.6 (Ootpa)',\n",
       "   'Model Number': 'x86_64',\n",
       "   'OS Family': 'LIN X64',\n",
       "   'OS Name': 'Linux',\n",
       "   'OS Release': '3.10.0-1160.6.1.el7.x86_64',\n",
       "   'OS Version': '#1 SMP Tue Nov 17 13:59:11 UTC 2020'},\n",
       "  'Transferred': 'NO',\n",
       "  'Version': '4.00',\n",
       "  'VersionLong': 'V.04.00M0P07182022',\n",
       "  'Viya Release': '20220721.1658437616927',\n",
       "  'Viya Version': 'Stable 2022.1.3',\n",
       "  'license': {'expires': '22Oct2022:00:00:00',\n",
       "   'gracePeriod': 45,\n",
       "   'site': 'VIYA 4 W ESP, ACCESS, VA, VDMML, AIOT, AND PQA',\n",
       "   'siteNum': 70180938,\n",
       "   'warningPeriod': 49}}\n",
       "\n",
       "[nodestatus]\n",
       "\n",
       " Node Status\n",
       " \n",
       "                                                 name        role  uptime  running  stalled\n",
       " 0  controller.sas-cas-server-default.sas-viya.svc...  controller   10.89        0        0\n",
       "\n",
       "[server]\n",
       "\n",
       " Server Status\n",
       " \n",
       "    nodes  actions\n",
       " 0      1        9\n",
       "\n",
       "+ Elapsed: 0.000879s, user: 0.000741s, sys: 0.000106s, mem: 0.322mb"
      ]
     },
     "execution_count": 3,
     "metadata": {},
     "output_type": "execute_result"
    }
   ],
   "source": [
    "conn.serverStatus()"
   ]
  },
  {
   "cell_type": "code",
   "execution_count": 4,
   "id": "2a9b90d1-8dcb-4f6a-b7ff-151b996e7396",
   "metadata": {},
   "outputs": [],
   "source": [
    "if not os.path.exists('Models'):\n",
    "    os.makedirs('Models')"
   ]
  },
  {
   "cell_type": "code",
   "execution_count": null,
   "id": "5b6916cd-8740-4e11-aee2-476b9c3fa3c4",
   "metadata": {},
   "outputs": [],
   "source": [
    "#tbl = conn.read_csv(\"./datasets/hmeq.csv\",casout=dict(name='hmeq'))\n"
   ]
  },
  {
   "cell_type": "markdown",
   "id": "f51bf71a-b002-4a99-be17-9e48a4f9ab33",
   "metadata": {
    "tags": []
   },
   "source": [
    "#  Modelling Using SAS Cluster"
   ]
  },
  {
   "cell_type": "code",
   "execution_count": 5,
   "id": "8b59ceb4-f0c7-4f13-8945-16581dc61ff8",
   "metadata": {},
   "outputs": [
    {
     "name": "stdout",
     "output_type": "stream",
     "text": [
      "NOTE: Added action set 'sampling'.\n",
      "NOTE: Added action set 'FedSQL'.\n",
      "NOTE: Added action set 'lightgradboost'.\n"
     ]
    }
   ],
   "source": [
    "#Load Required Actionset\n",
    "Actionsetlist = [\"sampling\",\"FedSQL\",\"lightgradboost\"]\n",
    "for act in range(len(Actionsetlist)):\n",
    "    conn.loadactionset(Actionsetlist[act])"
   ]
  },
  {
   "cell_type": "code",
   "execution_count": 6,
   "id": "21f442e3-2617-441a-99ed-cab8677ba420",
   "metadata": {},
   "outputs": [],
   "source": [
    "RawTable = 'HMEQ'\n",
    "RawTablelib = 'casuser'\n",
    "Target = \"BAD\"\n",
    "OversamplingOutTable = RawTable + '_Out_Over'\n",
    "PartitionedTable = RawTable + '_Part'"
   ]
  },
  {
   "cell_type": "code",
   "execution_count": null,
   "id": "b5f6f74c-0f5c-4996-a748-13e963ad0412",
   "metadata": {},
   "outputs": [],
   "source": []
  },
  {
   "cell_type": "code",
   "execution_count": 7,
   "id": "fd7b11ce-0e9c-4706-8178-ff287701793c",
   "metadata": {},
   "outputs": [],
   "source": [
    "#Connect Data and assign\n",
    "def AssignRawTable(table,library):\n",
    "    tbl = conn.CASTable(name=RawTable,caslib=RawTablelib)\n",
    "    return tbl\n",
    "    "
   ]
  },
  {
   "cell_type": "code",
   "execution_count": 8,
   "id": "d5d3d5ce-cee7-4ffb-be67-4c95cd13d96d",
   "metadata": {},
   "outputs": [],
   "source": [
    "tbl = AssignRawTable(table=RawTable,library=RawTablelib) "
   ]
  },
  {
   "cell_type": "code",
   "execution_count": null,
   "id": "bb91e19b-d9a6-499f-83c4-6dc8e1fb186c",
   "metadata": {},
   "outputs": [],
   "source": [
    "#tbl.fetch(to=10)"
   ]
  },
  {
   "cell_type": "code",
   "execution_count": null,
   "id": "227e1367-faa6-43b6-a3d6-c05a69b72906",
   "metadata": {
    "tags": []
   },
   "outputs": [],
   "source": [
    "res = conn.simple.freq(                           # 1\n",
    "    inputs = [{\"name\":\"bad\"}],                # 2\n",
    "    table = {\"name\":\"hmeq\"},                   # 3\n",
    "    casOut = {\"name\":\"hmeq_freq\",              # 4\n",
    "              \"replace\":True})\n",
    "\n",
    "res = conn.table.fetch(table = \"hmeq_freq\")       # 5\n",
    "from IPython.core.display import display, HTML\n",
    "display(res[\"Fetch\"])\n",
    "\n",
    "piedata = conn.CASTable(                          # 6\n",
    "    \"hmeq_freq\").to_frame().sort_values(['_Frequency_'],\n",
    "                                        ascending=False)\n",
    "\n"
   ]
  },
  {
   "cell_type": "code",
   "execution_count": null,
   "id": "f075f143-94ab-4ec2-bb80-9b8930e88c36",
   "metadata": {
    "tags": []
   },
   "outputs": [],
   "source": [
    "'''import matplotlib.pyplot as plt\n",
    "fig, ax = plt.subplots(figsize = (4.8, 3.6))\n",
    "plt.title(\"Models Produced by Vehicle Type\")\n",
    "ax.pie(piedata._Frequency_, labels = piedata._Fmtvar_, \n",
    "       radius=1.1, autopct = \"%.1f%%\", pctdistance=0.75)\n",
    "ax.get_figure()\n",
    "'''"
   ]
  },
  {
   "cell_type": "code",
   "execution_count": null,
   "id": "90925e55-6814-4035-990e-488adcfb2e26",
   "metadata": {},
   "outputs": [],
   "source": [
    "#oversdict = dict(partind =True,eventprop = 0.3,event =\"1\",samppctevt=90)"
   ]
  },
  {
   "cell_type": "code",
   "execution_count": null,
   "id": "5f6c98f3-c732-43e9-910c-267c64b49e68",
   "metadata": {},
   "outputs": [],
   "source": []
  },
  {
   "cell_type": "code",
   "execution_count": 9,
   "id": "ff3105dc-45b1-4365-9bcc-8effda40a45f",
   "metadata": {},
   "outputs": [],
   "source": [
    "def oversample(Table=RawTable,OverSamplingOut=OversamplingOutTable,**kwargs):\n",
    "    \n",
    "    DisplayDict = dict(names = \"OVERFreq\") \n",
    "    OverSamplingOutDict = dict(casout=dict(name=OverSamplingOut,replace=True),copyVars= \"ALL\")\n",
    "    OverSamplingTableDict = dict(name = RawTable,groupBy = [Target]) # Oversampling works with groupBy Column -Target Field \n",
    "    OutputTablesDict = dict(names = \"OVERFreq\",replace = True)\n",
    "    \n",
    "    conn.oversample(display=DisplayDict,\n",
    "                    output=OverSamplingOutDict,\n",
    "                    partind=kwargs['partind'],\n",
    "                    seed=10,\n",
    "                    eventprop=kwargs['eventprop'],\n",
    "                    event=kwargs['event'],\n",
    "                    samppctevt=kwargs['samppctevt'],\n",
    "                    table=OverSamplingTableDict,\n",
    "                    outputTables=OutputTablesDict)\n",
    "    \n",
    "    over_out=conn.CASTable(OversamplingOutTable)\n",
    "    return over_out"
   ]
  },
  {
   "cell_type": "code",
   "execution_count": 10,
   "id": "8862875f-addb-4a11-a1d0-33102c002d6d",
   "metadata": {},
   "outputs": [
    {
     "name": "stdout",
     "output_type": "stream",
     "text": [
      "NOTE: Oversampling is in effect.\n",
      "NOTE: Using SEED=10 for sampling.\n",
      "NOTE: The CAS table 'OVERFreq' in caslib 'CASUSER(sasdemo)' has 2 rows and 4 columns.\n"
     ]
    }
   ],
   "source": [
    "over_out = oversample(Table=RawTable,OverSamplingOut=OversamplingOutTable,partind=False,eventprop=0.3,event =\"1\",samppctevt=90)"
   ]
  },
  {
   "cell_type": "code",
   "execution_count": 11,
   "id": "ac5ca408-e93d-4763-bdb9-94045201f6c5",
   "metadata": {},
   "outputs": [
    {
     "data": {
      "text/html": [
       "<div class=\"cas-results-key\"><b>&#167; Fetch</b></div>\n",
       "<div class=\"cas-results-body\">\n",
       "<div>\n",
       "<style scoped>\n",
       "    .dataframe tbody tr th:only-of-type {\n",
       "        vertical-align: middle;\n",
       "    }\n",
       "\n",
       "    .dataframe tbody tr th {\n",
       "        vertical-align: top;\n",
       "    }\n",
       "\n",
       "    .dataframe thead th {\n",
       "        text-align: right;\n",
       "    }\n",
       "</style>\n",
       "<table border=\"1\" class=\"dataframe\"><caption>Selected Rows from Table OVERFREQ</caption>\n",
       "  <thead>\n",
       "    <tr style=\"text-align: right;\">\n",
       "      <th title=\"\"></th>\n",
       "      <th title=\"Index\">ByGrpID</th>\n",
       "      <th title=\"BAD\">BAD</th>\n",
       "      <th title=\"Number of Obs\">NObs</th>\n",
       "      <th title=\"Number of Samples\">NSamp</th>\n",
       "    </tr>\n",
       "  </thead>\n",
       "  <tbody>\n",
       "    <tr>\n",
       "      <td>0</td>\n",
       "      <td>0</td>\n",
       "      <td>0</td>\n",
       "      <td>4771</td>\n",
       "      <td>2497</td>\n",
       "    </tr>\n",
       "    <tr>\n",
       "      <td>1</td>\n",
       "      <td>1</td>\n",
       "      <td>1</td>\n",
       "      <td>1189</td>\n",
       "      <td>1070</td>\n",
       "    </tr>\n",
       "  </tbody>\n",
       "</table>\n",
       "</div>\n",
       "</div>\n",
       "<div class=\"cas-output-area\"></div>\n",
       "<p class=\"cas-results-performance\"><small><span class=\"cas-elapsed\">elapsed 0.00138s</span> &#183; <span class=\"cas-user\">user 0.00127s</span> &#183; <span class=\"cas-sys\">sys 7.2e-05s</span> &#183; <span class=\"cas-memory\">mem 0.978MB</span></small></p>"
      ],
      "text/plain": [
       "[Fetch]\n",
       "\n",
       " Selected Rows from Table OVERFREQ\n",
       " \n",
       "    ByGrpID BAD  NObs  NSamp\n",
       " 0        0   0  4771   2497\n",
       " 1        1   1  1189   1070\n",
       "\n",
       "+ Elapsed: 0.00138s, user: 0.00127s, sys: 7.2e-05s, mem: 0.978mb"
      ]
     },
     "execution_count": 11,
     "metadata": {},
     "output_type": "execute_result"
    }
   ],
   "source": [
    "conn.CASTable('OVERFreq').fetch(to=10)"
   ]
  },
  {
   "cell_type": "code",
   "execution_count": 12,
   "id": "d9092c9a-3fef-4a11-8ca5-76de8bf03c01",
   "metadata": {},
   "outputs": [],
   "source": [
    "# Partitioning the Data\n",
    "def createpartition(samppct):\n",
    "    PartitionedTable = RawTable + '_Part'\n",
    "    hmeq_part = conn.CASTable(PartitionedTable, replace=True\n",
    "                              #,computedVarsProgram = 'BAD_C = put(BAD,1.);' # (Create a new variable with program)\n",
    "                             )\n",
    "    \n",
    "    over_out.groupby(Target).sampling.stratified(output=dict(casout=hmeq_part, copyvars='all'),\n",
    "                                                 samppct=samppct,\n",
    "                                                 partind=True\n",
    "                                                )\n",
    "    \n",
    "    return hmeq_part"
   ]
  },
  {
   "cell_type": "code",
   "execution_count": 13,
   "id": "113e0cf5-041c-4e96-ba81-382326cbfb71",
   "metadata": {},
   "outputs": [
    {
     "name": "stdout",
     "output_type": "stream",
     "text": [
      "NOTE: Stratified sampling is in effect.\n",
      "NOTE: Using SEED=1229418715 for sampling.\n"
     ]
    }
   ],
   "source": [
    "hmeq_part = createpartition(70) #pct of partition"
   ]
  },
  {
   "cell_type": "code",
   "execution_count": 14,
   "id": "53fd3109-c155-46ad-b96a-819d7b924321",
   "metadata": {},
   "outputs": [],
   "source": [
    "Train = hmeq_part.query('_partind_ = 1')\n",
    "Test = hmeq_part.query('_partind_ = 0')"
   ]
  },
  {
   "cell_type": "code",
   "execution_count": 15,
   "id": "3f89a174-00d1-41d5-946d-69f316f3d705",
   "metadata": {},
   "outputs": [],
   "source": [
    "feature_list = Train.columns.to_list()\n",
    "vartypes = Train.dtypes\n",
    "drop_cols = ['_Freq_','_PartInd_',Target]\n",
    "feature_list = [x for x in feature_list if (x not in drop_cols )]"
   ]
  },
  {
   "cell_type": "code",
   "execution_count": null,
   "id": "38c7c56e-26a4-4ed9-9f65-5a8b1f887fb7",
   "metadata": {},
   "outputs": [],
   "source": [
    "\n",
    "#numeric_list = [x for x in feature_list if (vartypes == 'double')[x] == True]\n",
    "#nominal_list = [x for x in Model_Inputs if (vartypes == 'double')[x] == False]\n",
    "#Model_Inputs = numeric_list + nominal_list"
   ]
  },
  {
   "cell_type": "code",
   "execution_count": 17,
   "id": "0bbc4fa3-5a34-4769-935e-4090cca9cce6",
   "metadata": {},
   "outputs": [],
   "source": [
    "def lgb_sas():\n",
    "    numeric_list = [x for x in feature_list if (vartypes == 'double')[x] == True]\n",
    "    nominal_list = [x for x in feature_list if (vartypes != 'double')[x] == True]\n",
    "    Model_Inputs = numeric_list + nominal_list\n",
    "    conn.lightgradboost.lgbmTrain(inputs=numeric_list,objective=\"BINARY\",\n",
    "        nominals=[Target],\n",
    "        #nominals=nominal_list.append(Target),                      \n",
    "        display= {'names':['IterHistory','ModelInfo','NObs']}  ,                \n",
    "        output={'casout':{'name':'scored_train','replace':True}},\n",
    "        savestate={'name':'lgb_ast','replace':True},\n",
    "        seed=12345,\n",
    "        table=Train,\n",
    "        target=Target,\n",
    "        validtable=Test,\n",
    "        #outputTables={'names':['IterHistory_Train','ModelInfo','NObs'],'replace':True})\n",
    "        outputTables = {\"includeAll\":True,\"replace\":True})"
   ]
  },
  {
   "cell_type": "code",
   "execution_count": 18,
   "id": "ea12bd6d-4de7-463f-be70-856b736e0e97",
   "metadata": {},
   "outputs": [
    {
     "name": "stdout",
     "output_type": "stream",
     "text": [
      "NOTE: The misclassification error is     0.00.\n",
      "NOTE: 345501 bytes were written to the table \"lgb_ast\" in the caslib \"CASUSER(sasdemo)\".\n",
      "NOTE: The CAS table 'ModelInfo' in caslib 'CASUSER(sasdemo)' has 7 rows and 4 columns.\n",
      "NOTE: The CAS table 'NObs' in caslib 'CASUSER(sasdemo)' has 4 rows and 3 columns.\n",
      "NOTE: The CAS table 'IterHistory' in caslib 'CASUSER(sasdemo)' has 100 rows and 3 columns.\n",
      "NOTE: lgbmTrain completed successfully.\n",
      "--- 1.4910264015197754 seconds ---\n"
     ]
    }
   ],
   "source": [
    "start_time = time.time()\n",
    "lgb_sas()\n",
    "print(\"--- %s seconds ---\" % (time.time() - start_time))\n"
   ]
  },
  {
   "cell_type": "code",
   "execution_count": 19,
   "id": "3d39823e-5563-4948-8a54-f2575946d6cf",
   "metadata": {},
   "outputs": [],
   "source": [
    "\n",
    "lgb_train_scored =conn.CASTable('scored_train')"
   ]
  },
  {
   "cell_type": "code",
   "execution_count": 20,
   "id": "07f36152-0951-4a15-8447-356e0d3c8ad6",
   "metadata": {},
   "outputs": [
    {
     "name": "stdout",
     "output_type": "stream",
     "text": [
      "NOTE: Added action set 'aStore'.\n",
      "Basic Information\n",
      "\n",
      "         Attribute               Value\n",
      "0  Analytic Engine      lightGradBoost\n",
      "1     Time Created  09Aug2022:04:51:26\n",
      "Input Variables\n",
      "\n",
      "      Name  Length Role Type RawType FormatName\n",
      "0     LOAN     8.0   Id          Num           \n",
      "1  MORTDUE     8.0   Id          Num           \n",
      "2    VALUE     8.0   Id          Num           \n",
      "3      YOJ     8.0   Id          Num           \n",
      "4    DEROG     8.0   Id          Num           \n",
      "5   DELINQ     8.0   Id          Num           \n",
      "6    CLAGE     8.0   Id          Num           \n",
      "7     NINQ     8.0   Id          Num           \n",
      "8     CLNO     8.0   Id          Num           \n",
      "9  DEBTINC     8.0   Id          Num           \n",
      "Output Variables\n",
      "\n",
      "     Name  Length       Type             Label\n",
      "0   I_BAD    16.0  Character         Into: BAD\n",
      "1  P_BAD0     8.0        Num  Predicted: BAD=0\n",
      "2  P_BAD1     8.0        Num  Predicted: BAD=1\n",
      "data sasep.out;\n",
      "  dcl package score sc();\n",
      "  dcl double \"LOAN\";\n",
      "  dcl double \"MORTDUE\";\n",
      "  dcl double \"VALUE\";\n",
      "  dcl double \"YOJ\";\n",
      "  dcl double \"DEROG\";\n",
      "  dcl double \"DELINQ\";\n",
      "  dcl double \"CLAGE\";\n",
      "  dcl double \"NINQ\";\n",
      "  dcl double \"CLNO\";\n",
      "  dcl double \"DEBTINC\";\n",
      "  dcl varchar(16) \"I_BAD\" having label n'Into: BAD';\n",
      "  dcl double \"P_BAD0\" having label n'Predicted: BAD=0';\n",
      "  dcl double \"P_BAD1\" having label n'Predicted: BAD=1';\n",
      "  Keep \n",
      "    \"I_BAD\" \n",
      "    \"P_BAD0\" \n",
      "    \"P_BAD1\" \n",
      "    ;\n",
      "  varlist allvars[_all_];\n",
      "  method init();\n",
      "    sc.setvars(allvars);\n",
      "    sc.setKey(n'317EECBF821BAD29D5C40038CECB91327088B65F');\n",
      "  end;\n",
      "  method preScoreRecord();\n",
      "  end;\n",
      "  method postScoreRecord();\n",
      "  end;\n",
      "  method term();\n",
      "  end;\n",
      "  method run();\n",
      "    set sasep.in;\n",
      "    preScoreRecord();\n",
      "    sc.scoreRecord();\n",
      "    postScoreRecord();\n",
      "  end;\n",
      "enddata;\n",
      "\n"
     ]
    }
   ],
   "source": [
    "conn.loadactionset('aStore')\n",
    "\n",
    "m=conn.describe(\n",
    "   rstore='lgb_ast',\n",
    "   epcode=True\n",
    ")\n",
    "print(m.Description)\n",
    "print(m.InputVariables)\n",
    "print(m.OutputVariables)\n",
    "print(m.epcode)"
   ]
  },
  {
   "cell_type": "code",
   "execution_count": 21,
   "id": "665297fc-c2fa-45af-be18-3958d7e67b8a",
   "metadata": {
    "tags": []
   },
   "outputs": [
    {
     "data": {
      "text/html": [
       "<div class=\"cas-results-key\"><b>&#167; Fetch</b></div>\n",
       "<div class=\"cas-results-body\">\n",
       "<div>\n",
       "<style scoped>\n",
       "    .dataframe tbody tr th:only-of-type {\n",
       "        vertical-align: middle;\n",
       "    }\n",
       "\n",
       "    .dataframe tbody tr th {\n",
       "        vertical-align: top;\n",
       "    }\n",
       "\n",
       "    .dataframe thead th {\n",
       "        text-align: right;\n",
       "    }\n",
       "</style>\n",
       "<table border=\"1\" class=\"dataframe\"><caption>Selected Rows from Table ITERHISTORY</caption>\n",
       "  <thead>\n",
       "    <tr style=\"text-align: right;\">\n",
       "      <th title=\"\"></th>\n",
       "      <th title=\"Number of Trees\">Number of Trees</th>\n",
       "      <th title=\"Training Accuracy Metric\">Training Accuracy Metric</th>\n",
       "      <th title=\"Validation Accuracy Metric\">Validation Accuracy Metric</th>\n",
       "    </tr>\n",
       "  </thead>\n",
       "  <tbody>\n",
       "    <tr>\n",
       "      <td>79</td>\n",
       "      <td>80</td>\n",
       "      <td>0.072731</td>\n",
       "      <td>0.256585</td>\n",
       "    </tr>\n",
       "    <tr>\n",
       "      <td>80</td>\n",
       "      <td>81</td>\n",
       "      <td>0.071724</td>\n",
       "      <td>0.256254</td>\n",
       "    </tr>\n",
       "    <tr>\n",
       "      <td>81</td>\n",
       "      <td>82</td>\n",
       "      <td>0.070583</td>\n",
       "      <td>0.255403</td>\n",
       "    </tr>\n",
       "    <tr>\n",
       "      <td>82</td>\n",
       "      <td>83</td>\n",
       "      <td>0.069379</td>\n",
       "      <td>0.255635</td>\n",
       "    </tr>\n",
       "    <tr>\n",
       "      <td>83</td>\n",
       "      <td>84</td>\n",
       "      <td>0.068252</td>\n",
       "      <td>0.255644</td>\n",
       "    </tr>\n",
       "    <tr>\n",
       "      <td>84</td>\n",
       "      <td>85</td>\n",
       "      <td>0.067054</td>\n",
       "      <td>0.256265</td>\n",
       "    </tr>\n",
       "    <tr>\n",
       "      <td>85</td>\n",
       "      <td>86</td>\n",
       "      <td>0.066090</td>\n",
       "      <td>0.256934</td>\n",
       "    </tr>\n",
       "    <tr>\n",
       "      <td>86</td>\n",
       "      <td>87</td>\n",
       "      <td>0.065063</td>\n",
       "      <td>0.257349</td>\n",
       "    </tr>\n",
       "    <tr>\n",
       "      <td>87</td>\n",
       "      <td>88</td>\n",
       "      <td>0.064078</td>\n",
       "      <td>0.256759</td>\n",
       "    </tr>\n",
       "    <tr>\n",
       "      <td>88</td>\n",
       "      <td>89</td>\n",
       "      <td>0.062925</td>\n",
       "      <td>0.256793</td>\n",
       "    </tr>\n",
       "    <tr>\n",
       "      <td>89</td>\n",
       "      <td>90</td>\n",
       "      <td>0.061901</td>\n",
       "      <td>0.255864</td>\n",
       "    </tr>\n",
       "    <tr>\n",
       "      <td>90</td>\n",
       "      <td>91</td>\n",
       "      <td>0.061011</td>\n",
       "      <td>0.255234</td>\n",
       "    </tr>\n",
       "    <tr>\n",
       "      <td>91</td>\n",
       "      <td>92</td>\n",
       "      <td>0.059741</td>\n",
       "      <td>0.254448</td>\n",
       "    </tr>\n",
       "    <tr>\n",
       "      <td>92</td>\n",
       "      <td>93</td>\n",
       "      <td>0.058972</td>\n",
       "      <td>0.254307</td>\n",
       "    </tr>\n",
       "    <tr>\n",
       "      <td>93</td>\n",
       "      <td>94</td>\n",
       "      <td>0.057855</td>\n",
       "      <td>0.254913</td>\n",
       "    </tr>\n",
       "    <tr>\n",
       "      <td>94</td>\n",
       "      <td>95</td>\n",
       "      <td>0.056920</td>\n",
       "      <td>0.255230</td>\n",
       "    </tr>\n",
       "    <tr>\n",
       "      <td>95</td>\n",
       "      <td>96</td>\n",
       "      <td>0.056097</td>\n",
       "      <td>0.255146</td>\n",
       "    </tr>\n",
       "    <tr>\n",
       "      <td>96</td>\n",
       "      <td>97</td>\n",
       "      <td>0.054980</td>\n",
       "      <td>0.255560</td>\n",
       "    </tr>\n",
       "    <tr>\n",
       "      <td>97</td>\n",
       "      <td>98</td>\n",
       "      <td>0.054184</td>\n",
       "      <td>0.255249</td>\n",
       "    </tr>\n",
       "    <tr>\n",
       "      <td>98</td>\n",
       "      <td>99</td>\n",
       "      <td>0.053382</td>\n",
       "      <td>0.255439</td>\n",
       "    </tr>\n",
       "    <tr>\n",
       "      <td>99</td>\n",
       "      <td>100</td>\n",
       "      <td>0.052624</td>\n",
       "      <td>0.255631</td>\n",
       "    </tr>\n",
       "  </tbody>\n",
       "</table>\n",
       "</div>\n",
       "</div>\n",
       "<div class=\"cas-output-area\"></div>\n",
       "<p class=\"cas-results-performance\"><small><span class=\"cas-elapsed\">elapsed 0.00141s</span> &#183; <span class=\"cas-user\">user 0.000395s</span> &#183; <span class=\"cas-sys\">sys 0.000963s</span> &#183; <span class=\"cas-memory\">mem 0.98MB</span></small></p>"
      ],
      "text/plain": [
       "[Fetch]\n",
       "\n",
       " Selected Rows from Table ITERHISTORY\n",
       " \n",
       "     Number of Trees  Training Accuracy Metric  Validation Accuracy Metric\n",
       " 79               80                  0.072731                    0.256585\n",
       " 80               81                  0.071724                    0.256254\n",
       " 81               82                  0.070583                    0.255403\n",
       " 82               83                  0.069379                    0.255635\n",
       " 83               84                  0.068252                    0.255644\n",
       " 84               85                  0.067054                    0.256265\n",
       " 85               86                  0.066090                    0.256934\n",
       " 86               87                  0.065063                    0.257349\n",
       " 87               88                  0.064078                    0.256759\n",
       " 88               89                  0.062925                    0.256793\n",
       " 89               90                  0.061901                    0.255864\n",
       " 90               91                  0.061011                    0.255234\n",
       " 91               92                  0.059741                    0.254448\n",
       " 92               93                  0.058972                    0.254307\n",
       " 93               94                  0.057855                    0.254913\n",
       " 94               95                  0.056920                    0.255230\n",
       " 95               96                  0.056097                    0.255146\n",
       " 96               97                  0.054980                    0.255560\n",
       " 97               98                  0.054184                    0.255249\n",
       " 98               99                  0.053382                    0.255439\n",
       " 99              100                  0.052624                    0.255631\n",
       "\n",
       "+ Elapsed: 0.00141s, user: 0.000395s, sys: 0.000963s, mem: 0.98mb"
      ]
     },
     "execution_count": 21,
     "metadata": {},
     "output_type": "execute_result"
    }
   ],
   "source": [
    "conn.CASTable('IterHistory').fetch(from_ =80 ,to=100)"
   ]
  },
  {
   "cell_type": "code",
   "execution_count": 34,
   "id": "1a50be8c-9da7-4014-b433-ff4d9c54b1e7",
   "metadata": {
    "tags": []
   },
   "outputs": [],
   "source": [
    "lgb_test_scored = conn.CASTable('lgb_score_out',replace = True)\n",
    "conn.score(\n",
    "   table=Test,\n",
    "   casout={'name':'lgb_score_out','replace':True},\n",
    "   rstore='lgb_ast'\n",
    ")\n",
    "m=lgb_test_scored.fetch(to=10)"
   ]
  },
  {
   "cell_type": "code",
   "execution_count": 39,
   "id": "3d63e534-fea5-4ea5-a976-27cd045d0b02",
   "metadata": {},
   "outputs": [
    {
     "data": {
      "text/html": [
       "<div class=\"cas-results-key\"><b>&#167; Fetch</b></div>\n",
       "<div class=\"cas-results-body\">\n",
       "<div>\n",
       "<style scoped>\n",
       "    .dataframe tbody tr th:only-of-type {\n",
       "        vertical-align: middle;\n",
       "    }\n",
       "\n",
       "    .dataframe tbody tr th {\n",
       "        vertical-align: top;\n",
       "    }\n",
       "\n",
       "    .dataframe thead th {\n",
       "        text-align: right;\n",
       "    }\n",
       "</style>\n",
       "<table border=\"1\" class=\"dataframe\"><caption>Selected Rows from Table LGB_SCORE_OUT</caption>\n",
       "  <thead>\n",
       "    <tr style=\"text-align: right;\">\n",
       "      <th title=\"\"></th>\n",
       "      <th title=\"Into: BAD\">I_BAD</th>\n",
       "      <th title=\"Predicted: BAD=0\">P_BAD0</th>\n",
       "      <th title=\"Predicted: BAD=1\">P_BAD1</th>\n",
       "    </tr>\n",
       "  </thead>\n",
       "  <tbody>\n",
       "    <tr>\n",
       "      <td>0</td>\n",
       "      <td>1</td>\n",
       "      <td>0.004857</td>\n",
       "      <td>0.995143</td>\n",
       "    </tr>\n",
       "    <tr>\n",
       "      <td>1</td>\n",
       "      <td>1</td>\n",
       "      <td>0.045953</td>\n",
       "      <td>0.954047</td>\n",
       "    </tr>\n",
       "    <tr>\n",
       "      <td>2</td>\n",
       "      <td>1</td>\n",
       "      <td>0.026204</td>\n",
       "      <td>0.973796</td>\n",
       "    </tr>\n",
       "    <tr>\n",
       "      <td>3</td>\n",
       "      <td>1</td>\n",
       "      <td>0.002927</td>\n",
       "      <td>0.997073</td>\n",
       "    </tr>\n",
       "    <tr>\n",
       "      <td>4</td>\n",
       "      <td>1</td>\n",
       "      <td>0.002184</td>\n",
       "      <td>0.997816</td>\n",
       "    </tr>\n",
       "    <tr>\n",
       "      <td>5</td>\n",
       "      <td>1</td>\n",
       "      <td>0.005219</td>\n",
       "      <td>0.994781</td>\n",
       "    </tr>\n",
       "    <tr>\n",
       "      <td>6</td>\n",
       "      <td>1</td>\n",
       "      <td>0.020552</td>\n",
       "      <td>0.979448</td>\n",
       "    </tr>\n",
       "    <tr>\n",
       "      <td>7</td>\n",
       "      <td>1</td>\n",
       "      <td>0.011586</td>\n",
       "      <td>0.988414</td>\n",
       "    </tr>\n",
       "    <tr>\n",
       "      <td>8</td>\n",
       "      <td>1</td>\n",
       "      <td>0.007971</td>\n",
       "      <td>0.992029</td>\n",
       "    </tr>\n",
       "    <tr>\n",
       "      <td>9</td>\n",
       "      <td>1</td>\n",
       "      <td>0.049745</td>\n",
       "      <td>0.950255</td>\n",
       "    </tr>\n",
       "  </tbody>\n",
       "</table>\n",
       "</div>\n",
       "</div>\n",
       "<div class=\"cas-output-area\"></div>\n",
       "<p class=\"cas-results-performance\"><small><span class=\"cas-elapsed\">elapsed 0.0013s</span> &#183; <span class=\"cas-user\">user 0.00124s</span> &#183; <span class=\"cas-sys\">sys 3.1e-05s</span> &#183; <span class=\"cas-memory\">mem 0.988MB</span></small></p>"
      ],
      "text/plain": [
       "[Fetch]\n",
       "\n",
       " Selected Rows from Table LGB_SCORE_OUT\n",
       " \n",
       "   I_BAD    P_BAD0    P_BAD1\n",
       " 0     1  0.004857  0.995143\n",
       " 1     1  0.045953  0.954047\n",
       " 2     1  0.026204  0.973796\n",
       " 3     1  0.002927  0.997073\n",
       " 4     1  0.002184  0.997816\n",
       " 5     1  0.005219  0.994781\n",
       " 6     1  0.020552  0.979448\n",
       " 7     1  0.011586  0.988414\n",
       " 8     1  0.007971  0.992029\n",
       " 9     1  0.049745  0.950255\n",
       "\n",
       "+ Elapsed: 0.0013s, user: 0.00124s, sys: 3.1e-05s, mem: 0.988mb"
      ]
     },
     "execution_count": 39,
     "metadata": {},
     "output_type": "execute_result"
    }
   ],
   "source": [
    "m"
   ]
  },
  {
   "cell_type": "code",
   "execution_count": 46,
   "id": "a3865304-e984-4781-a897-a5479557fd2c",
   "metadata": {},
   "outputs": [],
   "source": [
    "p_target_1 = 'P_'+ Target +'1'\n",
    "p_target_0 = 'P_'+ Target +'0'\n",
    "resp = 'I_' + Target"
   ]
  },
  {
   "cell_type": "code",
   "execution_count": 41,
   "id": "f1529f7b-e583-41ae-b00b-e4a938ae023e",
   "metadata": {},
   "outputs": [
    {
     "data": {
      "text/plain": [
       "'P_BAD1'"
      ]
     },
     "execution_count": 41,
     "metadata": {},
     "output_type": "execute_result"
    }
   ],
   "source": [
    "p_target_1"
   ]
  },
  {
   "cell_type": "code",
   "execution_count": null,
   "id": "401a403b-63ed-4399-b8b8-27697c12cb29",
   "metadata": {},
   "outputs": [],
   "source": [
    "#conn.close()"
   ]
  },
  {
   "cell_type": "code",
   "execution_count": null,
   "id": "830ed441-b397-423a-ba3f-caccf5e1828c",
   "metadata": {},
   "outputs": [],
   "source": []
  },
  {
   "cell_type": "code",
   "execution_count": 48,
   "id": "cedacdd2-97e9-4930-a42f-ac5a97f38c09",
   "metadata": {},
   "outputs": [],
   "source": [
    "lgb_assess = conn.percentile.assess(\n",
    "            table=lgb_test_scored,\n",
    "            inputs=[p_target_1],      \n",
    "            response=resp,\n",
    "            event='1',\n",
    "            pvar=[p_target_0],\n",
    "            pevent=['0']      \n",
    "        )\n",
    "\n",
    "gb_fitstat  = lgb_assess.FitStat\n",
    "gb_rocinfo  = lgb_assess.ROCInfo\n",
    "gb_liftinfo = lgb_assess.LIFTInfo\n"
   ]
  },
  {
   "cell_type": "code",
   "execution_count": 55,
   "id": "900f4f8a-fe7b-4708-bc5b-1960352c9193",
   "metadata": {},
   "outputs": [],
   "source": [
    "# Add new variable to indicate type of model\n",
    "gb_liftinfo['model']   = 'lgb_model'\n",
    "gb_rocinfo['model']    = 'lgb_model'\n",
    "\n",
    "# # Concatenate data\n",
    "#all_liftinfo = pd.concat([rf_liftinfo, gb_liftinfo, nn_liftinfo, tree_liftinfo], ignore_index=True)\n",
    "#all_rocinfo = pd.concat([rf_rocinfo, gb_rocinfo, nn_rocinfo, tree_rocinfo], ignore_index=True)"
   ]
  },
  {
   "cell_type": "code",
   "execution_count": 58,
   "id": "38107341-9fd6-4ccc-a204-eb1b89299dc6",
   "metadata": {},
   "outputs": [
    {
     "data": {
      "image/png": "[encoded data removed]",
      "text/plain": [
       "<Figure size 1080x360 with 1 Axes>"
      ]
     },
     "metadata": {
      "needs_background": "light"
     },
     "output_type": "display_data"
    },
    {
     "data": {
      "image/png": "[encoded data removed]",
      "text/plain": [
       "<Figure size 1080x360 with 1 Axes>"
      ]
     },
     "metadata": {
      "needs_background": "light"
     },
     "output_type": "display_data"
    }
   ],
   "source": [
    "# Draw ROC charts \n",
    "plt.figure(figsize=(15, 5))\n",
    "for key, grp in gb_rocinfo.groupby(['model']):\n",
    "    plt.plot(grp['FPR'], grp['Sensitivity'], label=key)\n",
    "plt.plot([0,1], [0,1], 'k--')\n",
    "plt.xlabel('False Positive Rate')\n",
    "plt.ylabel('True Positive Rate')\n",
    "plt.grid(True)\n",
    "plt.legend(loc='best')\n",
    "plt.title('ROC Curve')\n",
    "plt.show()\n",
    "\n",
    "# Draw lift charts\n",
    "plt.figure(figsize=(15, 5))\n",
    "for key, grp in gb_liftinfo.groupby(['model']):\n",
    "    plt.plot(grp['Depth'], grp['CumLift'], label=key)\n",
    "plt.xlabel('Depth')\n",
    "plt.ylabel('Cumulative Lift')\n",
    "plt.grid(True)\n",
    "plt.legend(loc='best')\n",
    "plt.title('Cumulative Lift Chart')\n",
    "plt.show();"
   ]
  }
 ],
 "metadata": {
  "kernelspec": {
   "display_name": "Python 3 (ipykernel)",
   "language": "python",
   "name": "python3"
  },
  "language_info": {
   "codemirror_mode": {
    "name": "ipython",
    "version": 3
   },
   "file_extension": ".py",
   "mimetype": "text/x-python",
   "name": "python",
   "nbconvert_exporter": "python",
   "pygments_lexer": "ipython3",
   "version": "3.9.12"
  },
  "toc-autonumbering": true,
  "toc-showcode": false,
  "toc-showmarkdowntxt": true
 },
 "nbformat": 4,
 "nbformat_minor": 5
}
